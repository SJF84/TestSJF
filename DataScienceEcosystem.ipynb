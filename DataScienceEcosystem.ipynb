{
 "cells": [
  {
   "cell_type": "markdown",
   "id": "040bf358-3602-4f9e-99a9-51dc0c97efa3",
   "metadata": {},
   "source": [
    "# Data Science Tools and Ecosystem"
   ]
  },
  {
   "cell_type": "markdown",
   "id": "6fdbb741-36d0-4f84-a185-9b4923cd828f",
   "metadata": {},
   "source": [
    "In this notebook, Data Science Tools and Ecosystem are summarized."
   ]
  },
  {
   "cell_type": "markdown",
   "id": "f5474f85-d847-4c76-9b99-88cd1b47e3e3",
   "metadata": {},
   "source": [
    "**Objectives:** <br>\n",
    "* Overview popular language for Data Science\n",
    "* First introductions to single languages\n",
    "* Overview categories of Data Science\n",
    "* Introduction into Open Source, Commercial and Cloud based Tools for Data Science\n",
    "* Overview about Packages (libraries), APIs, DAta Sets Models (e.g. maschine learing)"
   ]
  },
  {
   "cell_type": "markdown",
   "id": "5a0df83f-2bf9-485a-ba89-7fe8724e8f7d",
   "metadata": {},
   "source": [
    "## Author \n",
    "Silvia Joao-Feistner"
   ]
  },
  {
   "cell_type": "markdown",
   "id": "7d6cc9a1-e172-403e-86d2-8bdc5d60930e",
   "metadata": {},
   "source": [
    "Some of the popular languages that Data Scientists use are: <br>\n",
    "1. Python\n",
    "2. R\n",
    "3. SQL\n",
    "4. Scala"
   ]
  },
  {
   "cell_type": "markdown",
   "id": "be860a05-0cec-4e4b-81fb-28f221cef26e",
   "metadata": {},
   "source": [
    "Some of the commonly used libraries used by Data Scientists include: <br>\n",
    "1. Panda\n",
    "2. NumPy\n",
    "3. Matplotlib\n",
    "4. Seaborn"
   ]
  },
  {
   "cell_type": "markdown",
   "id": "92287438-b77b-4cf3-a262-898a25eee532",
   "metadata": {},
   "source": [
    "| Data Science Tools |\n",
    "|----|\n",
    "| mySQL - relational databases |\n",
    "| MongoDb Apache - NoSQL database |\n",
    "| Hadoop File System -  file-based tools|"
   ]
  },
  {
   "cell_type": "markdown",
   "id": "896f2796-65ea-44f3-92e4-f25694f50fc4",
   "metadata": {},
   "source": [
    "### Below are a few examples of evaluationg arithmetic expressions in Python"
   ]
  },
  {
   "cell_type": "code",
   "execution_count": 15,
   "id": "b6774a51-c9da-472a-a269-73382c823b65",
   "metadata": {},
   "outputs": [
    {
     "data": {
      "text/plain": [
       "17"
      ]
     },
     "execution_count": 15,
     "metadata": {},
     "output_type": "execute_result"
    }
   ],
   "source": [
    "#This is a simple arithmetic expression to mutiply then add integers \n",
    "(3*4)+5"
   ]
  },
  {
   "cell_type": "code",
   "execution_count": 16,
   "id": "9e8b8572-ea79-4a8c-8d4b-e82baf91d4a3",
   "metadata": {},
   "outputs": [
    {
     "data": {
      "text/plain": [
       "3.3333333333333335"
      ]
     },
     "execution_count": 16,
     "metadata": {},
     "output_type": "execute_result"
    }
   ],
   "source": [
    "#This will convert 200 minutes to hours by diving by 60\n",
    "/60"
   ]
  },
  {
   "cell_type": "code",
   "execution_count": 20,
   "id": "94d5a731-f54b-4bcc-b3a3-cf8aced8fd3e",
   "metadata": {},
   "outputs": [
    {
     "name": "stdout",
     "output_type": "stream",
     "text": [
      "3\n"
     ]
    }
   ],
   "source": [
    "hours = int (200% 1440) // 60\n",
    "print(hours)"
   ]
  },
  {
   "cell_type": "code",
   "execution_count": null,
   "id": "058d965e-12e9-4c92-a457-d3f7fcaa9f89",
   "metadata": {},
   "outputs": [],
   "source": []
  }
 ],
 "metadata": {
  "kernelspec": {
   "display_name": "Python",
   "language": "python",
   "name": "conda-env-python-py"
  },
  "language_info": {
   "codemirror_mode": {
    "name": "ipython",
    "version": 3
   },
   "file_extension": ".py",
   "mimetype": "text/x-python",
   "name": "python",
   "nbconvert_exporter": "python",
   "pygments_lexer": "ipython3",
   "version": "3.7.12"
  }
 },
 "nbformat": 4,
 "nbformat_minor": 5
}
